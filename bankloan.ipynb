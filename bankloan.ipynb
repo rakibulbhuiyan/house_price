{
 "cells": [
  {
   "cell_type": "code",
   "execution_count": 65,
   "metadata": {},
   "outputs": [],
   "source": [
    "import numpy as np\n",
    "import pandas as pd\n",
    "import tensorflow as tf\n",
    "import warnings\n",
    "import seaborn as sns\n",
    "import matplotlib.pyplot as plt\n",
    "from collections import Counter"
   ]
  },
  {
   "cell_type": "code",
   "execution_count": 66,
   "metadata": {},
   "outputs": [],
   "source": [
    "dataset=pd.read_csv('data/bankloan.csv')\n"
   ]
  },
  {
   "cell_type": "code",
   "execution_count": 67,
   "metadata": {},
   "outputs": [
    {
     "data": {
      "text/plain": [
       "Counter({'Y': 422, 'N': 192})"
      ]
     },
     "execution_count": 67,
     "metadata": {},
     "output_type": "execute_result"
    }
   ],
   "source": [
    "dataset.dropna()\n",
    "dataset.isna().any()\n",
    "dataset = dataset.drop(['Loan_ID'], axis=1, errors='ignore')\n",
    "dataset['LoanAmount'] = dataset['LoanAmount'].fillna(0)\n",
    "dataset['LoanAmount'] = (dataset['LoanAmount'] * 1000).astype(int)\n",
    "Counter(dataset['Loan_Status'])"
   ]
  },
  {
   "cell_type": "code",
   "execution_count": 68,
   "metadata": {},
   "outputs": [
    {
     "data": {
      "text/plain": [
       "0      1\n",
       "1      0\n",
       "2      1\n",
       "3      1\n",
       "4      1\n",
       "      ..\n",
       "609    1\n",
       "610    1\n",
       "611    1\n",
       "612    1\n",
       "613    0\n",
       "Name: Loan_Status, Length: 614, dtype: int64"
      ]
     },
     "execution_count": 68,
     "metadata": {},
     "output_type": "execute_result"
    }
   ],
   "source": [
    "pred_y=dataset['Loan_Status']\n",
    "pred_x=dataset.drop(['Loan_Status'],axis=1)\n",
    "dum_X=pd.get_dummies(pred_x) # work as one-hot encoder means convert data 1,0\n",
    "dum_Y=pred_y.map(dict(Y=1,N=0))\n",
    "dum_Y"
   ]
  },
  {
   "cell_type": "code",
   "execution_count": 69,
   "metadata": {},
   "outputs": [
    {
     "data": {
      "text/html": [
       "<div>\n",
       "<style scoped>\n",
       "    .dataframe tbody tr th:only-of-type {\n",
       "        vertical-align: middle;\n",
       "    }\n",
       "\n",
       "    .dataframe tbody tr th {\n",
       "        vertical-align: top;\n",
       "    }\n",
       "\n",
       "    .dataframe thead th {\n",
       "        text-align: right;\n",
       "    }\n",
       "</style>\n",
       "<table border=\"1\" class=\"dataframe\">\n",
       "  <thead>\n",
       "    <tr style=\"text-align: right;\">\n",
       "      <th></th>\n",
       "      <th>Gender</th>\n",
       "      <th>Married</th>\n",
       "      <th>Dependents</th>\n",
       "      <th>Education</th>\n",
       "      <th>Self_Employed</th>\n",
       "      <th>ApplicantIncome</th>\n",
       "      <th>CoapplicantIncome</th>\n",
       "      <th>LoanAmount</th>\n",
       "      <th>Loan_Amount_Term</th>\n",
       "      <th>Credit_History</th>\n",
       "      <th>Property_Area</th>\n",
       "      <th>Loan_Status</th>\n",
       "    </tr>\n",
       "  </thead>\n",
       "  <tbody>\n",
       "    <tr>\n",
       "      <th>0</th>\n",
       "      <td>Male</td>\n",
       "      <td>No</td>\n",
       "      <td>0.0</td>\n",
       "      <td>Graduate</td>\n",
       "      <td>No</td>\n",
       "      <td>5849</td>\n",
       "      <td>0.0</td>\n",
       "      <td>125000</td>\n",
       "      <td>360.0</td>\n",
       "      <td>1.0</td>\n",
       "      <td>Urban</td>\n",
       "      <td>Y</td>\n",
       "    </tr>\n",
       "    <tr>\n",
       "      <th>1</th>\n",
       "      <td>Male</td>\n",
       "      <td>Yes</td>\n",
       "      <td>1.0</td>\n",
       "      <td>Graduate</td>\n",
       "      <td>No</td>\n",
       "      <td>4583</td>\n",
       "      <td>1508.0</td>\n",
       "      <td>128000</td>\n",
       "      <td>360.0</td>\n",
       "      <td>1.0</td>\n",
       "      <td>Rural</td>\n",
       "      <td>N</td>\n",
       "    </tr>\n",
       "    <tr>\n",
       "      <th>2</th>\n",
       "      <td>Male</td>\n",
       "      <td>Yes</td>\n",
       "      <td>0.0</td>\n",
       "      <td>Graduate</td>\n",
       "      <td>Yes</td>\n",
       "      <td>3000</td>\n",
       "      <td>0.0</td>\n",
       "      <td>66000</td>\n",
       "      <td>360.0</td>\n",
       "      <td>1.0</td>\n",
       "      <td>Urban</td>\n",
       "      <td>Y</td>\n",
       "    </tr>\n",
       "    <tr>\n",
       "      <th>3</th>\n",
       "      <td>Male</td>\n",
       "      <td>Yes</td>\n",
       "      <td>0.0</td>\n",
       "      <td>Not Graduate</td>\n",
       "      <td>No</td>\n",
       "      <td>2583</td>\n",
       "      <td>2358.0</td>\n",
       "      <td>120000</td>\n",
       "      <td>360.0</td>\n",
       "      <td>1.0</td>\n",
       "      <td>Urban</td>\n",
       "      <td>Y</td>\n",
       "    </tr>\n",
       "    <tr>\n",
       "      <th>4</th>\n",
       "      <td>Male</td>\n",
       "      <td>No</td>\n",
       "      <td>0.0</td>\n",
       "      <td>Graduate</td>\n",
       "      <td>No</td>\n",
       "      <td>6000</td>\n",
       "      <td>0.0</td>\n",
       "      <td>141000</td>\n",
       "      <td>360.0</td>\n",
       "      <td>1.0</td>\n",
       "      <td>Urban</td>\n",
       "      <td>Y</td>\n",
       "    </tr>\n",
       "  </tbody>\n",
       "</table>\n",
       "</div>"
      ],
      "text/plain": [
       "  Gender Married  Dependents     Education Self_Employed  ApplicantIncome  \\\n",
       "0   Male      No         0.0      Graduate            No             5849   \n",
       "1   Male     Yes         1.0      Graduate            No             4583   \n",
       "2   Male     Yes         0.0      Graduate           Yes             3000   \n",
       "3   Male     Yes         0.0  Not Graduate            No             2583   \n",
       "4   Male      No         0.0      Graduate            No             6000   \n",
       "\n",
       "   CoapplicantIncome  LoanAmount  Loan_Amount_Term  Credit_History  \\\n",
       "0                0.0      125000             360.0             1.0   \n",
       "1             1508.0      128000             360.0             1.0   \n",
       "2                0.0       66000             360.0             1.0   \n",
       "3             2358.0      120000             360.0             1.0   \n",
       "4                0.0      141000             360.0             1.0   \n",
       "\n",
       "  Property_Area Loan_Status  \n",
       "0         Urban           Y  \n",
       "1         Rural           N  \n",
       "2         Urban           Y  \n",
       "3         Urban           Y  \n",
       "4         Urban           Y  "
      ]
     },
     "execution_count": 69,
     "metadata": {},
     "output_type": "execute_result"
    }
   ],
   "source": [
    "# from imblearn.over_sampling import SMOTE\n",
    "dataset['LoanAmount'] = dataset['LoanAmount'].replace(0, dataset['LoanAmount'].median())\n",
    "dataset.head()"
   ]
  },
  {
   "cell_type": "markdown",
   "metadata": {},
   "source": [
    "### data spliting and featuring data"
   ]
  },
  {
   "cell_type": "code",
   "execution_count": 70,
   "metadata": {},
   "outputs": [],
   "source": [
    "from sklearn.model_selection import train_test_split\n",
    "from sklearn.preprocessing import StandardScaler  \n",
    "\n",
    "X_train,X_test,y_train,y_test=train_test_split(dum_X,dum_Y,test_size=.2,random_state=42)\n",
    "\n",
    "sc = StandardScaler()\n",
    "X_train = sc.fit_transform(X_train)\n",
    "X_test = sc.transform(X_test)"
   ]
  },
  {
   "cell_type": "code",
   "execution_count": 71,
   "metadata": {},
   "outputs": [
    {
     "data": {
      "text/plain": [
       "Counter({1: 342, 0: 149})"
      ]
     },
     "execution_count": 71,
     "metadata": {},
     "output_type": "execute_result"
    }
   ],
   "source": [
    "Counter(y_train)"
   ]
  },
  {
   "cell_type": "markdown",
   "metadata": {},
   "source": [
    "### Build a Neural Network with TensorFlow"
   ]
  },
  {
   "cell_type": "code",
   "execution_count": 79,
   "metadata": {},
   "outputs": [
    {
     "name": "stderr",
     "output_type": "stream",
     "text": [
      "f:\\git\\bank_loan\\env\\lib\\site-packages\\keras\\src\\layers\\core\\dense.py:87: UserWarning: Do not pass an `input_shape`/`input_dim` argument to a layer. When using Sequential models, prefer using an `Input(shape)` object as the first layer in the model instead.\n",
      "  super().__init__(activity_regularizer=activity_regularizer, **kwargs)\n"
     ]
    },
    {
     "data": {
      "text/html": [
       "<pre style=\"white-space:pre;overflow-x:auto;line-height:normal;font-family:Menlo,'DejaVu Sans Mono',consolas,'Courier New',monospace\"><span style=\"font-weight: bold\">Model: \"sequential_6\"</span>\n",
       "</pre>\n"
      ],
      "text/plain": [
       "\u001b[1mModel: \"sequential_6\"\u001b[0m\n"
      ]
     },
     "metadata": {},
     "output_type": "display_data"
    },
    {
     "data": {
      "text/html": [
       "<pre style=\"white-space:pre;overflow-x:auto;line-height:normal;font-family:Menlo,'DejaVu Sans Mono',consolas,'Courier New',monospace\">┏━━━━━━━━━━━━━━━━━━━━━━━━━━━━━━━━━┳━━━━━━━━━━━━━━━━━━━━━━━━┳━━━━━━━━━━━━━━━┓\n",
       "┃<span style=\"font-weight: bold\"> Layer (type)                    </span>┃<span style=\"font-weight: bold\"> Output Shape           </span>┃<span style=\"font-weight: bold\">       Param # </span>┃\n",
       "┡━━━━━━━━━━━━━━━━━━━━━━━━━━━━━━━━━╇━━━━━━━━━━━━━━━━━━━━━━━━╇━━━━━━━━━━━━━━━┩\n",
       "│ dense_22 (<span style=\"color: #0087ff; text-decoration-color: #0087ff\">Dense</span>)                │ (<span style=\"color: #00d7ff; text-decoration-color: #00d7ff\">None</span>, <span style=\"color: #00af00; text-decoration-color: #00af00\">200</span>)            │         <span style=\"color: #00af00; text-decoration-color: #00af00\">3,600</span> │\n",
       "├─────────────────────────────────┼────────────────────────┼───────────────┤\n",
       "│ dense_23 (<span style=\"color: #0087ff; text-decoration-color: #0087ff\">Dense</span>)                │ (<span style=\"color: #00d7ff; text-decoration-color: #00d7ff\">None</span>, <span style=\"color: #00af00; text-decoration-color: #00af00\">400</span>)            │        <span style=\"color: #00af00; text-decoration-color: #00af00\">80,400</span> │\n",
       "├─────────────────────────────────┼────────────────────────┼───────────────┤\n",
       "│ dense_24 (<span style=\"color: #0087ff; text-decoration-color: #0087ff\">Dense</span>)                │ (<span style=\"color: #00d7ff; text-decoration-color: #00d7ff\">None</span>, <span style=\"color: #00af00; text-decoration-color: #00af00\">10</span>)             │         <span style=\"color: #00af00; text-decoration-color: #00af00\">4,010</span> │\n",
       "├─────────────────────────────────┼────────────────────────┼───────────────┤\n",
       "│ dense_25 (<span style=\"color: #0087ff; text-decoration-color: #0087ff\">Dense</span>)                │ (<span style=\"color: #00d7ff; text-decoration-color: #00d7ff\">None</span>, <span style=\"color: #00af00; text-decoration-color: #00af00\">1</span>)              │            <span style=\"color: #00af00; text-decoration-color: #00af00\">11</span> │\n",
       "└─────────────────────────────────┴────────────────────────┴───────────────┘\n",
       "</pre>\n"
      ],
      "text/plain": [
       "┏━━━━━━━━━━━━━━━━━━━━━━━━━━━━━━━━━┳━━━━━━━━━━━━━━━━━━━━━━━━┳━━━━━━━━━━━━━━━┓\n",
       "┃\u001b[1m \u001b[0m\u001b[1mLayer (type)                   \u001b[0m\u001b[1m \u001b[0m┃\u001b[1m \u001b[0m\u001b[1mOutput Shape          \u001b[0m\u001b[1m \u001b[0m┃\u001b[1m \u001b[0m\u001b[1m      Param #\u001b[0m\u001b[1m \u001b[0m┃\n",
       "┡━━━━━━━━━━━━━━━━━━━━━━━━━━━━━━━━━╇━━━━━━━━━━━━━━━━━━━━━━━━╇━━━━━━━━━━━━━━━┩\n",
       "│ dense_22 (\u001b[38;5;33mDense\u001b[0m)                │ (\u001b[38;5;45mNone\u001b[0m, \u001b[38;5;34m200\u001b[0m)            │         \u001b[38;5;34m3,600\u001b[0m │\n",
       "├─────────────────────────────────┼────────────────────────┼───────────────┤\n",
       "│ dense_23 (\u001b[38;5;33mDense\u001b[0m)                │ (\u001b[38;5;45mNone\u001b[0m, \u001b[38;5;34m400\u001b[0m)            │        \u001b[38;5;34m80,400\u001b[0m │\n",
       "├─────────────────────────────────┼────────────────────────┼───────────────┤\n",
       "│ dense_24 (\u001b[38;5;33mDense\u001b[0m)                │ (\u001b[38;5;45mNone\u001b[0m, \u001b[38;5;34m10\u001b[0m)             │         \u001b[38;5;34m4,010\u001b[0m │\n",
       "├─────────────────────────────────┼────────────────────────┼───────────────┤\n",
       "│ dense_25 (\u001b[38;5;33mDense\u001b[0m)                │ (\u001b[38;5;45mNone\u001b[0m, \u001b[38;5;34m1\u001b[0m)              │            \u001b[38;5;34m11\u001b[0m │\n",
       "└─────────────────────────────────┴────────────────────────┴───────────────┘\n"
      ]
     },
     "metadata": {},
     "output_type": "display_data"
    },
    {
     "data": {
      "text/html": [
       "<pre style=\"white-space:pre;overflow-x:auto;line-height:normal;font-family:Menlo,'DejaVu Sans Mono',consolas,'Courier New',monospace\"><span style=\"font-weight: bold\"> Total params: </span><span style=\"color: #00af00; text-decoration-color: #00af00\">88,021</span> (343.83 KB)\n",
       "</pre>\n"
      ],
      "text/plain": [
       "\u001b[1m Total params: \u001b[0m\u001b[38;5;34m88,021\u001b[0m (343.83 KB)\n"
      ]
     },
     "metadata": {},
     "output_type": "display_data"
    },
    {
     "data": {
      "text/html": [
       "<pre style=\"white-space:pre;overflow-x:auto;line-height:normal;font-family:Menlo,'DejaVu Sans Mono',consolas,'Courier New',monospace\"><span style=\"font-weight: bold\"> Trainable params: </span><span style=\"color: #00af00; text-decoration-color: #00af00\">88,021</span> (343.83 KB)\n",
       "</pre>\n"
      ],
      "text/plain": [
       "\u001b[1m Trainable params: \u001b[0m\u001b[38;5;34m88,021\u001b[0m (343.83 KB)\n"
      ]
     },
     "metadata": {},
     "output_type": "display_data"
    },
    {
     "data": {
      "text/html": [
       "<pre style=\"white-space:pre;overflow-x:auto;line-height:normal;font-family:Menlo,'DejaVu Sans Mono',consolas,'Courier New',monospace\"><span style=\"font-weight: bold\"> Non-trainable params: </span><span style=\"color: #00af00; text-decoration-color: #00af00\">0</span> (0.00 B)\n",
       "</pre>\n"
      ],
      "text/plain": [
       "\u001b[1m Non-trainable params: \u001b[0m\u001b[38;5;34m0\u001b[0m (0.00 B)\n"
      ]
     },
     "metadata": {},
     "output_type": "display_data"
    }
   ],
   "source": [
    "model = tf.keras.Sequential([\n",
    "    tf.keras.layers.Dense(200, activation='relu', input_shape=(X_train.shape[1],)),\n",
    "    tf.keras.layers.Dense(400, activation='relu'),\n",
    "    tf.keras.layers.Dense(10, activation='relu'),\n",
    "    tf.keras.layers.Dense(1, activation='sigmoid')\n",
    "])\n",
    "\n",
    "model.compile(optimizer='adam', loss='binary_crossentropy', metrics=['accuracy'])\n",
    "\n",
    "# Print the model summary\n",
    "model.summary()"
   ]
  },
  {
   "cell_type": "code",
   "execution_count": 80,
   "metadata": {},
   "outputs": [
    {
     "name": "stdout",
     "output_type": "stream",
     "text": [
      "Epoch 1/50\n",
      "13/13 - 3s - 230ms/step - accuracy: 0.6964 - loss: 0.6793 - val_accuracy: 0.6970 - val_loss: 0.6673\n",
      "Epoch 2/50\n",
      "13/13 - 0s - 10ms/step - accuracy: 0.6964 - loss: 0.6564 - val_accuracy: 0.6970 - val_loss: 0.6384\n",
      "Epoch 3/50\n",
      "13/13 - 0s - 11ms/step - accuracy: 0.6964 - loss: 0.6288 - val_accuracy: 0.6970 - val_loss: 0.6182\n",
      "Epoch 4/50\n",
      "13/13 - 0s - 12ms/step - accuracy: 0.6964 - loss: 0.6164 - val_accuracy: 0.6970 - val_loss: 0.6134\n",
      "Epoch 5/50\n",
      "13/13 - 0s - 23ms/step - accuracy: 0.6964 - loss: 0.6143 - val_accuracy: 0.6970 - val_loss: 0.6136\n",
      "Epoch 6/50\n",
      "13/13 - 0s - 10ms/step - accuracy: 0.6964 - loss: 0.6141 - val_accuracy: 0.6970 - val_loss: 0.6135\n",
      "Epoch 7/50\n",
      "13/13 - 0s - 10ms/step - accuracy: 0.6964 - loss: 0.6141 - val_accuracy: 0.6970 - val_loss: 0.6135\n",
      "Epoch 8/50\n",
      "13/13 - 0s - 10ms/step - accuracy: 0.6964 - loss: 0.6146 - val_accuracy: 0.6970 - val_loss: 0.6136\n",
      "Epoch 9/50\n",
      "13/13 - 0s - 10ms/step - accuracy: 0.6964 - loss: 0.6142 - val_accuracy: 0.6970 - val_loss: 0.6134\n",
      "Epoch 10/50\n",
      "13/13 - 0s - 10ms/step - accuracy: 0.6964 - loss: 0.6146 - val_accuracy: 0.6970 - val_loss: 0.6134\n",
      "Epoch 11/50\n",
      "13/13 - 0s - 12ms/step - accuracy: 0.6964 - loss: 0.6139 - val_accuracy: 0.6970 - val_loss: 0.6134\n",
      "Epoch 12/50\n",
      "13/13 - 0s - 23ms/step - accuracy: 0.6964 - loss: 0.6140 - val_accuracy: 0.6970 - val_loss: 0.6134\n",
      "Epoch 13/50\n",
      "13/13 - 0s - 9ms/step - accuracy: 0.6964 - loss: 0.6141 - val_accuracy: 0.6970 - val_loss: 0.6134\n",
      "Epoch 14/50\n",
      "13/13 - 0s - 10ms/step - accuracy: 0.6964 - loss: 0.6146 - val_accuracy: 0.6970 - val_loss: 0.6138\n",
      "Epoch 15/50\n",
      "13/13 - 0s - 10ms/step - accuracy: 0.6964 - loss: 0.6150 - val_accuracy: 0.6970 - val_loss: 0.6135\n",
      "Epoch 16/50\n",
      "13/13 - 0s - 13ms/step - accuracy: 0.6964 - loss: 0.6143 - val_accuracy: 0.6970 - val_loss: 0.6134\n",
      "Epoch 17/50\n",
      "13/13 - 0s - 14ms/step - accuracy: 0.6964 - loss: 0.6145 - val_accuracy: 0.6970 - val_loss: 0.6134\n",
      "Epoch 18/50\n",
      "13/13 - 0s - 17ms/step - accuracy: 0.6964 - loss: 0.6165 - val_accuracy: 0.6970 - val_loss: 0.6140\n",
      "Epoch 19/50\n",
      "13/13 - 0s - 16ms/step - accuracy: 0.6964 - loss: 0.6140 - val_accuracy: 0.6970 - val_loss: 0.6135\n",
      "Epoch 20/50\n",
      "13/13 - 0s - 11ms/step - accuracy: 0.6964 - loss: 0.6160 - val_accuracy: 0.6970 - val_loss: 0.6149\n",
      "Epoch 21/50\n",
      "13/13 - 0s - 9ms/step - accuracy: 0.6964 - loss: 0.6151 - val_accuracy: 0.6970 - val_loss: 0.6137\n",
      "Epoch 22/50\n",
      "13/13 - 0s - 9ms/step - accuracy: 0.6964 - loss: 0.6142 - val_accuracy: 0.6970 - val_loss: 0.6136\n",
      "Epoch 23/50\n",
      "13/13 - 0s - 14ms/step - accuracy: 0.6964 - loss: 0.6153 - val_accuracy: 0.6970 - val_loss: 0.6141\n",
      "Epoch 24/50\n",
      "13/13 - 0s - 24ms/step - accuracy: 0.6964 - loss: 0.6145 - val_accuracy: 0.6970 - val_loss: 0.6134\n",
      "Epoch 25/50\n",
      "13/13 - 0s - 9ms/step - accuracy: 0.6964 - loss: 0.6144 - val_accuracy: 0.6970 - val_loss: 0.6134\n",
      "Epoch 26/50\n",
      "13/13 - 0s - 9ms/step - accuracy: 0.6964 - loss: 0.6144 - val_accuracy: 0.6970 - val_loss: 0.6134\n",
      "Epoch 27/50\n",
      "13/13 - 0s - 10ms/step - accuracy: 0.6964 - loss: 0.6140 - val_accuracy: 0.6970 - val_loss: 0.6134\n",
      "Epoch 28/50\n",
      "13/13 - 0s - 9ms/step - accuracy: 0.6964 - loss: 0.6140 - val_accuracy: 0.6970 - val_loss: 0.6135\n",
      "Epoch 29/50\n",
      "13/13 - 0s - 10ms/step - accuracy: 0.6964 - loss: 0.6141 - val_accuracy: 0.6970 - val_loss: 0.6135\n",
      "Epoch 30/50\n",
      "13/13 - 0s - 12ms/step - accuracy: 0.6964 - loss: 0.6143 - val_accuracy: 0.6970 - val_loss: 0.6135\n",
      "Epoch 31/50\n",
      "13/13 - 0s - 11ms/step - accuracy: 0.6964 - loss: 0.6144 - val_accuracy: 0.6970 - val_loss: 0.6134\n",
      "Epoch 32/50\n",
      "13/13 - 0s - 11ms/step - accuracy: 0.6964 - loss: 0.6145 - val_accuracy: 0.6970 - val_loss: 0.6134\n",
      "Epoch 33/50\n",
      "13/13 - 0s - 13ms/step - accuracy: 0.6964 - loss: 0.6137 - val_accuracy: 0.6970 - val_loss: 0.6136\n",
      "Epoch 34/50\n",
      "13/13 - 0s - 10ms/step - accuracy: 0.6964 - loss: 0.6148 - val_accuracy: 0.6970 - val_loss: 0.6140\n",
      "Epoch 35/50\n",
      "13/13 - 0s - 9ms/step - accuracy: 0.6964 - loss: 0.6163 - val_accuracy: 0.6970 - val_loss: 0.6135\n",
      "Epoch 36/50\n",
      "13/13 - 0s - 11ms/step - accuracy: 0.6964 - loss: 0.6137 - val_accuracy: 0.6970 - val_loss: 0.6134\n",
      "Epoch 37/50\n",
      "13/13 - 0s - 12ms/step - accuracy: 0.6964 - loss: 0.6139 - val_accuracy: 0.6970 - val_loss: 0.6137\n",
      "Epoch 38/50\n",
      "13/13 - 0s - 14ms/step - accuracy: 0.6964 - loss: 0.6145 - val_accuracy: 0.6970 - val_loss: 0.6137\n",
      "Epoch 39/50\n",
      "13/13 - 0s - 29ms/step - accuracy: 0.6964 - loss: 0.6141 - val_accuracy: 0.6970 - val_loss: 0.6134\n",
      "Epoch 40/50\n",
      "13/13 - 0s - 10ms/step - accuracy: 0.6964 - loss: 0.6151 - val_accuracy: 0.6970 - val_loss: 0.6135\n",
      "Epoch 41/50\n",
      "13/13 - 0s - 11ms/step - accuracy: 0.6964 - loss: 0.6143 - val_accuracy: 0.6970 - val_loss: 0.6136\n",
      "Epoch 42/50\n",
      "13/13 - 0s - 9ms/step - accuracy: 0.6964 - loss: 0.6146 - val_accuracy: 0.6970 - val_loss: 0.6137\n",
      "Epoch 43/50\n",
      "13/13 - 0s - 12ms/step - accuracy: 0.6964 - loss: 0.6141 - val_accuracy: 0.6970 - val_loss: 0.6134\n",
      "Epoch 44/50\n",
      "13/13 - 0s - 10ms/step - accuracy: 0.6964 - loss: 0.6140 - val_accuracy: 0.6970 - val_loss: 0.6134\n",
      "Epoch 45/50\n",
      "13/13 - 0s - 12ms/step - accuracy: 0.6964 - loss: 0.6143 - val_accuracy: 0.6970 - val_loss: 0.6134\n",
      "Epoch 46/50\n",
      "13/13 - 0s - 11ms/step - accuracy: 0.6964 - loss: 0.6140 - val_accuracy: 0.6970 - val_loss: 0.6134\n",
      "Epoch 47/50\n",
      "13/13 - 0s - 10ms/step - accuracy: 0.6964 - loss: 0.6140 - val_accuracy: 0.6970 - val_loss: 0.6134\n",
      "Epoch 48/50\n",
      "13/13 - 0s - 9ms/step - accuracy: 0.6964 - loss: 0.6152 - val_accuracy: 0.6970 - val_loss: 0.6141\n",
      "Epoch 49/50\n",
      "13/13 - 0s - 9ms/step - accuracy: 0.6964 - loss: 0.6145 - val_accuracy: 0.6970 - val_loss: 0.6134\n",
      "Epoch 50/50\n",
      "13/13 - 0s - 9ms/step - accuracy: 0.6964 - loss: 0.6140 - val_accuracy: 0.6970 - val_loss: 0.6134\n"
     ]
    }
   ],
   "source": [
    "history=model.fit(X_train,y_train,batch_size=32,epochs=50,validation_split=.2,verbose=2)"
   ]
  },
  {
   "cell_type": "markdown",
   "metadata": {},
   "source": [
    "### evalute the model\n"
   ]
  },
  {
   "cell_type": "code",
   "execution_count": 81,
   "metadata": {},
   "outputs": [
    {
     "name": "stdout",
     "output_type": "stream",
     "text": [
      "4/4 - 0s - 13ms/step - accuracy: 0.6504 - loss: 0.6521\n",
      "WARNING:tensorflow:6 out of the last 22 calls to <function TensorFlowTrainer.make_predict_function.<locals>.one_step_on_data_distributed at 0x000001585E9FC160> triggered tf.function retracing. Tracing is expensive and the excessive number of tracings could be due to (1) creating @tf.function repeatedly in a loop, (2) passing tensors with different shapes, (3) passing Python objects instead of tensors. For (1), please define your @tf.function outside of the loop. For (2), @tf.function has reduce_retracing=True option that can avoid unnecessary retracing. For (3), please refer to https://www.tensorflow.org/guide/function#controlling_retracing and https://www.tensorflow.org/api_docs/python/tf/function for  more details.\n",
      "\u001b[1m4/4\u001b[0m \u001b[32m━━━━━━━━━━━━━━━━━━━━\u001b[0m\u001b[37m\u001b[0m \u001b[1m0s\u001b[0m 26ms/step\n"
     ]
    },
    {
     "data": {
      "text/plain": [
       "array([[1],\n",
       "       [1],\n",
       "       [1],\n",
       "       [1],\n",
       "       [1],\n",
       "       [1],\n",
       "       [1],\n",
       "       [1],\n",
       "       [1],\n",
       "       [1],\n",
       "       [1],\n",
       "       [1],\n",
       "       [1],\n",
       "       [1],\n",
       "       [1],\n",
       "       [1],\n",
       "       [1],\n",
       "       [1],\n",
       "       [1],\n",
       "       [1],\n",
       "       [1],\n",
       "       [1],\n",
       "       [1],\n",
       "       [1],\n",
       "       [1],\n",
       "       [1],\n",
       "       [1],\n",
       "       [1],\n",
       "       [1],\n",
       "       [1],\n",
       "       [1],\n",
       "       [1],\n",
       "       [1],\n",
       "       [1],\n",
       "       [1],\n",
       "       [1],\n",
       "       [1],\n",
       "       [1],\n",
       "       [1],\n",
       "       [1],\n",
       "       [1],\n",
       "       [1],\n",
       "       [1],\n",
       "       [1],\n",
       "       [1],\n",
       "       [1],\n",
       "       [1],\n",
       "       [1],\n",
       "       [1],\n",
       "       [1],\n",
       "       [1],\n",
       "       [1],\n",
       "       [1],\n",
       "       [1],\n",
       "       [1],\n",
       "       [1],\n",
       "       [1],\n",
       "       [1],\n",
       "       [1],\n",
       "       [1],\n",
       "       [1],\n",
       "       [1],\n",
       "       [1],\n",
       "       [1],\n",
       "       [1],\n",
       "       [1],\n",
       "       [1],\n",
       "       [1],\n",
       "       [1],\n",
       "       [1],\n",
       "       [1],\n",
       "       [1],\n",
       "       [1],\n",
       "       [1],\n",
       "       [1],\n",
       "       [1],\n",
       "       [1],\n",
       "       [1],\n",
       "       [1],\n",
       "       [1],\n",
       "       [1],\n",
       "       [1],\n",
       "       [1],\n",
       "       [1],\n",
       "       [1],\n",
       "       [1],\n",
       "       [1],\n",
       "       [1],\n",
       "       [1],\n",
       "       [1],\n",
       "       [1],\n",
       "       [1],\n",
       "       [1],\n",
       "       [1],\n",
       "       [1],\n",
       "       [1],\n",
       "       [1],\n",
       "       [1],\n",
       "       [1],\n",
       "       [1],\n",
       "       [1],\n",
       "       [1],\n",
       "       [1],\n",
       "       [1],\n",
       "       [1],\n",
       "       [1],\n",
       "       [1],\n",
       "       [1],\n",
       "       [1],\n",
       "       [1],\n",
       "       [1],\n",
       "       [1],\n",
       "       [1],\n",
       "       [1],\n",
       "       [1],\n",
       "       [1],\n",
       "       [1],\n",
       "       [1],\n",
       "       [1],\n",
       "       [1],\n",
       "       [1],\n",
       "       [1],\n",
       "       [1]])"
      ]
     },
     "execution_count": 81,
     "metadata": {},
     "output_type": "execute_result"
    }
   ],
   "source": [
    "test_loss, test_accuracy=model.evaluate(X_test,y_test,verbose=2)\n",
    "y_pred = (model.predict(X_test) > 0.5).astype(\"int32\")\n",
    "y_pred\n"
   ]
  },
  {
   "cell_type": "code",
   "execution_count": 82,
   "metadata": {},
   "outputs": [],
   "source": [
    "y_pred=(y_pred>.5)"
   ]
  },
  {
   "cell_type": "markdown",
   "metadata": {},
   "source": [
    "### Evaluate Model Performance"
   ]
  },
  {
   "cell_type": "code",
   "execution_count": 83,
   "metadata": {},
   "outputs": [],
   "source": [
    "from sklearn.metrics import accuracy_score,confusion_matrix,classification_report\n",
    "cm=confusion_matrix(y_test,y_pred)"
   ]
  },
  {
   "cell_type": "code",
   "execution_count": 84,
   "metadata": {},
   "outputs": [
    {
     "data": {
      "image/png": "[encoded data removed]",
      "text/plain": [
       "<Figure size 1200x400 with 2 Axes>"
      ]
     },
     "metadata": {},
     "output_type": "display_data"
    }
   ],
   "source": [
    "plt.figure(figsize=(12, 4))\n",
    "\n",
    "plt.subplot(1, 2, 1)\n",
    "plt.plot(history.history['loss'], label='Training Loss')\n",
    "plt.plot(history.history['val_loss'], label='Validation Loss')\n",
    "plt.legend()\n",
    "plt.title('Loss over Epochs')\n",
    "\n",
    "plt.subplot(1, 2, 2)\n",
    "plt.plot(history.history['accuracy'], label='Training Accuracy')\n",
    "plt.plot(history.history['val_accuracy'], label='Validation Accuracy')\n",
    "plt.legend()\n",
    "plt.title('Accuracy over Epochs')\n",
    "\n",
    "plt.show()\n"
   ]
  },
  {
   "cell_type": "code",
   "execution_count": 85,
   "metadata": {},
   "outputs": [
    {
     "data": {
      "image/png": "[encoded data removed]",
      "text/plain": [
       "<Figure size 640x480 with 2 Axes>"
      ]
     },
     "metadata": {},
     "output_type": "display_data"
    }
   ],
   "source": [
    "fig, ax = plt.subplots()\n",
    "\n",
    "# Plot the heatmap\n",
    "sns.heatmap(cm, annot=True, ax=ax, cmap=\"Blues\", fmt='g')\n",
    "\n",
    "# Set the labels and title\n",
    "ax.set_xlabel('Predicted')\n",
    "ax.set_ylabel('Actual')\n",
    "ax.set_title('Confusion Matrix')\n",
    "\n",
    "# Set the tick labels\n",
    "ax.xaxis.set_ticklabels(['No', 'Yes'])\n",
    "ax.yaxis.set_ticklabels(['No', 'Yes'])\n",
    "\n",
    "# Display the plot\n",
    "plt.show()"
   ]
  },
  {
   "cell_type": "code",
   "execution_count": null,
   "metadata": {},
   "outputs": [],
   "source": []
  }
 ],
 "metadata": {
  "kernelspec": {
   "display_name": "env",
   "language": "python",
   "name": "python3"
  },
  "language_info": {
   "codemirror_mode": {
    "name": "ipython",
    "version": 3
   },
   "file_extension": ".py",
   "mimetype": "text/x-python",
   "name": "python",
   "nbconvert_exporter": "python",
   "pygments_lexer": "ipython3",
   "version": "3.10.2"
  }
 },
 "nbformat": 4,
 "nbformat_minor": 2
}
